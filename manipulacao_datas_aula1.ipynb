{
 "cells": [
  {
   "cell_type": "markdown",
   "metadata": {
    "nbpresent": {
     "id": "1bd6ec88-9dc8-467a-b863-d28a0a05ad84"
    },
    "slideshow": {
     "slide_type": "slide"
    }
   },
   "source": [
    "## Manipulação de Datas utilizandos a biblioteca datetime\n",
    "<hr style=\"border:2px solid #0077b9;\">\n",
    "\n",
    "- Fabiano Morelli\n",
    "- Gilberto Ribeiro de Queiroz\n",
    "\n",
    "Detalhes da documentação oficial do Python podem ser encontrados em https://docs.python.org/2/library/datetime.html"
   ]
  },
  {
   "cell_type": "code",
   "execution_count": 2,
   "metadata": {
    "collapsed": true,
    "nbpresent": {
     "id": "566bc7de-a63d-4720-a82c-f6f41244a54f"
    },
    "slideshow": {
     "slide_type": "skip"
    }
   },
   "outputs": [],
   "source": [
    "from IPython.core.interactiveshell import InteractiveShell\n",
    "InteractiveShell.ast_node_interactivity = \"all\"\n",
    "\n",
    "# para mostrar todas as variáveis em uma celula sem precisar quebrar \n",
    "# https://www.dataquest.io/blog/jupyter-notebook-tips-tricks-shortcuts/\n",
    "# ----------------------------------------------------------------------------\n",
    "# Configuracao para display co o dobro de qualidade em sistemas de mac retina\n",
    "%config InlineBackend.figure_format = 'retina'"
   ]
  },
  {
   "cell_type": "code",
   "execution_count": 3,
   "metadata": {
    "collapsed": true,
    "nbpresent": {
     "id": "df3b82c5-2bff-4a64-8f69-78c2c16332a5"
    },
    "slideshow": {
     "slide_type": "fragment"
    }
   },
   "outputs": [],
   "source": [
    "import datetime as dt"
   ]
  },
  {
   "cell_type": "markdown",
   "metadata": {
    "nbpresent": {
     "id": "70539037-b41a-446e-ac55-f68fa29f3dfe"
    },
    "slideshow": {
     "slide_type": "slide"
    }
   },
   "source": [
    "Método para retornar um objeto do tipo data com os valores atuais do sistema:"
   ]
  },
  {
   "cell_type": "code",
   "execution_count": 4,
   "metadata": {
    "nbpresent": {
     "id": "287918e2-7a0b-4986-bc36-3b325477ad6d"
    },
    "slideshow": {
     "slide_type": "fragment"
    }
   },
   "outputs": [
    {
     "data": {
      "text/plain": [
       "datetime.date(2017, 11, 8)"
      ]
     },
     "execution_count": 4,
     "metadata": {},
     "output_type": "execute_result"
    }
   ],
   "source": [
    "dt.date.today()"
   ]
  },
  {
   "cell_type": "code",
   "execution_count": 5,
   "metadata": {
    "nbpresent": {
     "id": "be1a3300-43e2-47ad-ba67-b0f14c9f10ba"
    },
    "slideshow": {
     "slide_type": "slide"
    }
   },
   "outputs": [
    {
     "name": "stdout",
     "output_type": "stream",
     "text": [
      "2017-11-08\n"
     ]
    }
   ],
   "source": [
    "# Criação de uma variável para guardar o valor da data atual\n",
    "data_atual = dt.date.today()\n",
    "print(data_atual)\n"
   ]
  },
  {
   "cell_type": "markdown",
   "metadata": {
    "nbpresent": {
     "id": "81d24e7c-910f-40a0-aa1f-b4140c8e43eb"
    },
    "slideshow": {
     "slide_type": "slide"
    }
   },
   "source": [
    "O objeto data pode ser manipulado por meio de suas propriedades extraindo apenas uma parte do valor."
   ]
  },
  {
   "cell_type": "code",
   "execution_count": 5,
   "metadata": {
    "nbpresent": {
     "id": "8231bb80-48df-4406-8146-de83b55fc039"
    },
    "slideshow": {
     "slide_type": "fragment"
    }
   },
   "outputs": [
    {
     "data": {
      "text/plain": [
       "2017"
      ]
     },
     "execution_count": 5,
     "metadata": {},
     "output_type": "execute_result"
    }
   ],
   "source": [
    "# data_atual.year, data_atual.month, data_atual.day\n",
    "data_atual.year"
   ]
  },
  {
   "cell_type": "markdown",
   "metadata": {
    "nbpresent": {
     "id": "544905c1-0528-42fe-a6e5-0865a6bd0aa5"
    },
    "slideshow": {
     "slide_type": "slide"
    }
   },
   "source": [
    "O Objeto de data possui outros métodos "
   ]
  },
  {
   "cell_type": "code",
   "execution_count": 6,
   "metadata": {
    "nbpresent": {
     "id": "e68a9730-4473-42b1-82d9-13edb6362b71"
    },
    "slideshow": {
     "slide_type": "fragment"
    }
   },
   "outputs": [
    {
     "data": {
      "text/plain": [
       "time.struct_time(tm_year=2017, tm_mon=10, tm_mday=26, tm_hour=0, tm_min=0, tm_sec=0, tm_wday=3, tm_yday=299, tm_isdst=-1)"
      ]
     },
     "execution_count": 6,
     "metadata": {},
     "output_type": "execute_result"
    }
   ],
   "source": [
    "data_atual.timetuple()"
   ]
  },
  {
   "cell_type": "code",
   "execution_count": 7,
   "metadata": {
    "nbpresent": {
     "id": "0e12fa82-9e6d-430a-82bb-5f0c4d869477"
    },
    "slideshow": {
     "slide_type": "slide"
    }
   },
   "outputs": [
    {
     "name": "stdout",
     "output_type": "stream",
     "text": [
      "299\n"
     ]
    }
   ],
   "source": [
    "# armazena o valor do dia juliano da data atual em uma nova variável\n",
    "jld_atual = data_atual.timetuple().tm_yday\n",
    "print(jld_atual)\n"
   ]
  },
  {
   "cell_type": "markdown",
   "metadata": {
    "nbpresent": {
     "id": "a2669f9f-6411-4f83-b5f8-f708f72af10a"
    },
    "slideshow": {
     "slide_type": "slide"
    }
   },
   "source": [
    "Outra forma de definição de uma data em um objeto datetime é atribuindo os valores de ano, mes e dia diretamente no método date:\n",
    "\n",
    "**dt.date(2016,01,01)**\n",
    "\n",
    "também é possível definir a partir de uma string representando uma data completa ou \"date and time\" correspondente a uma string de formato: \n",
    "\n",
    "** datetime.strptime(date_string, format) **"
   ]
  },
  {
   "cell_type": "markdown",
   "metadata": {
    "nbpresent": {
     "id": "656585d9-f437-4235-8dab-d14547964fda"
    },
    "slideshow": {
     "slide_type": "slide"
    }
   },
   "source": [
    "### Exemplo: Como definir uma variável que represente a data referente ao início do ano anterior?\n",
    "**Método 1**"
   ]
  },
  {
   "cell_type": "code",
   "execution_count": 8,
   "metadata": {
    "nbpresent": {
     "id": "d7445433-3792-44e9-9420-7f7504471696"
    },
    "slideshow": {
     "slide_type": "fragment"
    }
   },
   "outputs": [
    {
     "name": "stdout",
     "output_type": "stream",
     "text": [
      "2016\n",
      "versao 1 - valor da variável inicio_aa1.: 2016-01-01\n",
      "versao 2 - valor da variável inicio_aa1.: 2016-01-01\n"
     ]
    }
   ],
   "source": [
    "ano_anteriro = (data_atual.year - 1)\n",
    "print(ano_anteriro)\n",
    "\n",
    "inicio_aa1 = dt.date(ano_anteriro,01,01)\n",
    "print(\"versao 1 - valor da variável inicio_aa1.: %s\"%inicio_aa1)\n",
    "\n",
    "# Método 2\n",
    "inicio_aa1 = dt.date( (data_atual.year - 1) ,01 ,01 )\n",
    "print(\"versao 2 - valor da variável inicio_aa1.: %s\"%inicio_aa1)"
   ]
  },
  {
   "cell_type": "markdown",
   "metadata": {
    "nbpresent": {
     "id": "605eab26-7144-4e63-b0d7-fafb5e0a1fcf"
    },
    "slideshow": {
     "slide_type": "slide"
    }
   },
   "source": [
    "### Exercício: definir uma variável que represente a data referente ao final do ano anterior"
   ]
  },
  {
   "cell_type": "code",
   "execution_count": 9,
   "metadata": {
    "nbpresent": {
     "id": "9a74eb43-c0dd-42e2-ad2f-8f3022e29b06"
    },
    "slideshow": {
     "slide_type": "fragment"
    }
   },
   "outputs": [
    {
     "name": "stdout",
     "output_type": "stream",
     "text": [
      "2016-12-31\n"
     ]
    }
   ],
   "source": [
    "# final_aa1 = dt.date((data_atual.year - 1),12,31)\n",
    "final_aa1 = dt.date(inicio_aa1.year, 12, 31)\n",
    "print(final_aa1)"
   ]
  },
  {
   "cell_type": "markdown",
   "metadata": {
    "nbpresent": {
     "id": "79e02db1-40b7-4f65-88b4-0bb63a87f037"
    },
    "slideshow": {
     "slide_type": "slide"
    }
   },
   "source": [
    "## Formatação de data para apresentação\n",
    "A partir de um objeto datetime o programa pode manipular qualquer parte de uma struct_time, porém muitas vezes é desejável mudar a formatação, podendo ser na construção de um objeto datetime ou na apresentação. Detalhes para criar a string de formatação podem ser vistos em https://docs.python.org/2/library/datetime.html#strftime-and-strptime-behavior"
   ]
  },
  {
   "cell_type": "code",
   "execution_count": 10,
   "metadata": {
    "nbpresent": {
     "id": "843719c8-949c-4e69-93cd-42b3df00d1cf"
    },
    "slideshow": {
     "slide_type": "fragment"
    }
   },
   "outputs": [
    {
     "data": {
      "text/plain": [
       "'26/10/2017'"
      ]
     },
     "execution_count": 10,
     "metadata": {},
     "output_type": "execute_result"
    }
   ],
   "source": [
    "# Apresentação da data no padrão brasileiro\n",
    "data_atual.strftime('%d/%m/%Y')"
   ]
  },
  {
   "cell_type": "code",
   "execution_count": 11,
   "metadata": {
    "nbpresent": {
     "id": "b6982ddd-fa76-4472-9cba-3998bf332687"
    },
    "slideshow": {
     "slide_type": "fragment"
    }
   },
   "outputs": [
    {
     "data": {
      "text/plain": [
       "'2017_299'"
      ]
     },
     "execution_count": 11,
     "metadata": {},
     "output_type": "execute_result"
    }
   ],
   "source": [
    "# Apresentação da data com Ano_diaJuliano\n",
    "data_atual.strftime('%Y_%j')"
   ]
  },
  {
   "cell_type": "markdown",
   "metadata": {
    "nbpresent": {
     "id": "6bbc8217-3ac2-47ab-b0c3-8a22aec6e817"
    },
    "slideshow": {
     "slide_type": "slide"
    }
   },
   "source": [
    "### Exercício: criar um objeto datetime tendo como entrada '20171024 07:34:18'"
   ]
  },
  {
   "cell_type": "code",
   "execution_count": 12,
   "metadata": {
    "nbpresent": {
     "id": "f2f1d51d-bd41-4586-a137-acf8d1a7dc26"
    }
   },
   "outputs": [
    {
     "data": {
      "text/plain": [
       "datetime.datetime(2017, 10, 24, 7, 34, 18)"
      ]
     },
     "execution_count": 12,
     "metadata": {},
     "output_type": "execute_result"
    }
   ],
   "source": [
    "dt.datetime.strptime('20171024 07:34:18', '%Y%m%d %H:%M:%S')"
   ]
  },
  {
   "cell_type": "markdown",
   "metadata": {
    "nbpresent": {
     "id": "7200b95d-34aa-42cd-aef3-46a6b2b16d33"
    },
    "slideshow": {
     "slide_type": "slide"
    }
   },
   "source": [
    "### Exercício: criar um objeto datetime tendo como entrada o dia juliano 137 do ano 1985 e depois apresentar o resutado com formato brasileiro dia/mes/ano"
   ]
  },
  {
   "cell_type": "code",
   "execution_count": 13,
   "metadata": {
    "nbpresent": {
     "id": "54a23863-b284-42cd-8559-655211956f6d"
    }
   },
   "outputs": [
    {
     "data": {
      "text/plain": [
       "'17/05/1985'"
      ]
     },
     "execution_count": 13,
     "metadata": {},
     "output_type": "execute_result"
    }
   ],
   "source": [
    "dt.datetime.strptime('1985137', '%Y%j').strftime('%d/%m/%Y')\n"
   ]
  },
  {
   "cell_type": "markdown",
   "metadata": {
    "nbpresent": {
     "id": "372292dd-43d5-4bf0-a73c-7787978d8884"
    },
    "slideshow": {
     "slide_type": "slide"
    }
   },
   "source": [
    "### Exemplo: Como definir uma variável que represente o número de dias consecutivos entre a data atual e o início do ano anterior?\n"
   ]
  },
  {
   "cell_type": "code",
   "execution_count": 14,
   "metadata": {
    "nbpresent": {
     "id": "476ea0a5-5095-45bb-a878-696abdde8f9d"
    },
    "slideshow": {
     "slide_type": "fragment"
    }
   },
   "outputs": [
    {
     "data": {
      "text/plain": [
       "time.struct_time(tm_year=2017, tm_mon=10, tm_mday=26, tm_hour=0, tm_min=0, tm_sec=0, tm_wday=3, tm_yday=299, tm_isdst=-1)"
      ]
     },
     "execution_count": 14,
     "metadata": {},
     "output_type": "execute_result"
    },
    {
     "data": {
      "text/plain": [
       "time.struct_time(tm_year=2016, tm_mon=12, tm_mday=31, tm_hour=0, tm_min=0, tm_sec=0, tm_wday=5, tm_yday=366, tm_isdst=-1)"
      ]
     },
     "execution_count": 14,
     "metadata": {},
     "output_type": "execute_result"
    },
    {
     "data": {
      "text/plain": [
       "time.struct_time(tm_year=2016, tm_mon=1, tm_mday=1, tm_hour=0, tm_min=0, tm_sec=0, tm_wday=4, tm_yday=1, tm_isdst=-1)"
      ]
     },
     "execution_count": 14,
     "metadata": {},
     "output_type": "execute_result"
    },
    {
     "data": {
      "text/plain": [
       "datetime.timedelta(664)"
      ]
     },
     "execution_count": 14,
     "metadata": {},
     "output_type": "execute_result"
    }
   ],
   "source": [
    "jld_inicio_aa1 = data_atual - inicio_aa1\n",
    "\n",
    "data_atual.timetuple()\n",
    "final_aa1.timetuple()\n",
    "inicio_aa1.timetuple()\n",
    "jld_inicio_aa1"
   ]
  },
  {
   "cell_type": "code",
   "execution_count": 15,
   "metadata": {
    "nbpresent": {
     "id": "ac7eb4e5-95da-4c3e-986a-66aebf7430db"
    },
    "slideshow": {
     "slide_type": "subslide"
    }
   },
   "outputs": [
    {
     "data": {
      "text/plain": [
       "300"
      ]
     },
     "execution_count": 15,
     "metadata": {},
     "output_type": "execute_result"
    }
   ],
   "source": [
    "# Criar uma variável que contenha quantos dias julianos devem ser \n",
    "# considerados entre a data atual e o final do ano anterior\n",
    "jld_final_aa1 = (data_atual - final_aa1).days + 1\n",
    "jld_final_aa1"
   ]
  },
  {
   "cell_type": "markdown",
   "metadata": {
    "nbpresent": {
     "id": "b1410f31-13f9-42a2-a52e-6e157ec9201a"
    },
    "slideshow": {
     "slide_type": "slide"
    }
   },
   "source": [
    "### Exercício: Definir uma variável que represente a data referente a exatamente um ano atrás?\n"
   ]
  },
  {
   "cell_type": "code",
   "execution_count": 16,
   "metadata": {
    "nbpresent": {
     "id": "0489a11e-b3cb-49be-9179-b7ff77aad8c7"
    },
    "slideshow": {
     "slide_type": "fragment"
    }
   },
   "outputs": [
    {
     "data": {
      "text/plain": [
       "datetime.date(2016, 10, 26)"
      ]
     },
     "execution_count": 16,
     "metadata": {},
     "output_type": "execute_result"
    }
   ],
   "source": [
    "um_ano_atras = dt.date( (data_atual.year - 1), data_atual.month, data_atual.day )\n",
    "um_ano_atras"
   ]
  },
  {
   "cell_type": "markdown",
   "metadata": {
    "nbpresent": {
     "id": "ab61aedc-4bbe-44e9-bb3c-f7c4812ed166"
    },
    "slideshow": {
     "slide_type": "slide"
    }
   },
   "source": [
    "## Exemplo de como identificar o último dia de um Mês"
   ]
  },
  {
   "cell_type": "code",
   "execution_count": 17,
   "metadata": {
    "nbpresent": {
     "id": "e4bde35d-3b7c-4bd8-9b93-dfd2f4529fa5"
    },
    "slideshow": {
     "slide_type": "fragment"
    }
   },
   "outputs": [
    {
     "data": {
      "text/plain": [
       "(0, 29)"
      ]
     },
     "execution_count": 17,
     "metadata": {},
     "output_type": "execute_result"
    }
   ],
   "source": [
    "import calendar\n",
    "calendar.monthrange(2016,2)"
   ]
  },
  {
   "cell_type": "markdown",
   "metadata": {
    "collapsed": true,
    "nbpresent": {
     "id": "64c22cd0-1aea-4692-aac4-25bacc50e98a"
    },
    "slideshow": {
     "slide_type": "fragment"
    }
   },
   "source": [
    "<hr style=\"border:2px solid #0077b9;\">\n",
    "# Final da aula"
   ]
  }
 ],
 "metadata": {
  "celltoolbar": "Slideshow",
  "kernelspec": {
   "display_name": "Python [default]",
   "language": "python",
   "name": "python2"
  },
  "language_info": {
   "codemirror_mode": {
    "name": "ipython",
    "version": 2
   },
   "file_extension": ".py",
   "mimetype": "text/x-python",
   "name": "python",
   "nbconvert_exporter": "python",
   "pygments_lexer": "ipython2",
   "version": "2.7.3"
  }
 },
 "nbformat": 4,
 "nbformat_minor": 2
}
